{
 "cells": [
  {
   "cell_type": "code",
   "execution_count": 4,
   "metadata": {},
   "outputs": [
    {
     "data": {
      "text/plain": [
       "True"
      ]
     },
     "execution_count": 4,
     "metadata": {},
     "output_type": "execute_result"
    }
   ],
   "source": [
    "import os\n",
    "from dotenv import load_dotenv\n",
    "import smtplib\n",
    "from email import encoders\n",
    "from email.mime.base import MIMEBase\n",
    "from email.mime.multipart import MIMEMultipart\n",
    "from email.mime.text import MIMEText\n",
    "\n",
    "load_dotenv()"
   ]
  },
  {
   "cell_type": "code",
   "execution_count": 5,
   "metadata": {},
   "outputs": [],
   "source": [
    "recipients = [\"limsienlong@gmail.com\"]\n",
    "\n",
    "subject = \"Daily LinkedIn Excel\"\n",
    "\n",
    "body = \"\"\"\n",
    "<html>\n",
    "  <body>\n",
    "    <p>This is an <b>HTML</b> email sent from Python using the Gmail SMTP server.</p>\n",
    "  </body>\n",
    "</html>\n",
    "\"\"\""
   ]
  },
  {
   "cell_type": "code",
   "execution_count": 6,
   "metadata": {},
   "outputs": [],
   "source": [
    "def send_email(server, subject, body, recipients, filepath):\n",
    "    # Create the multipart object\n",
    "    message = MIMEMultipart()\n",
    "    # Standard fields\n",
    "    message['Subject'] = subject\n",
    "    message['From'] = os.environ['EMAIL']\n",
    "    message['To'] = ', '.join(recipients)\n",
    "\n",
    "    # HTML body\n",
    "    html_part = MIMEText(body, 'html')\n",
    "    message.attach(payload=html_part)\n",
    "\n",
    "    # Read the attachment\n",
    "    with open(filepath, 'rb') as file:\n",
    "        attachment_part = MIMEBase('application', 'octet-stream')\n",
    "        attachment_part.set_payload(file.read())\n",
    "        encoders.encode_base64(attachment_part)\n",
    "        attachment_part.add_header(\n",
    "        \"Content-Disposition\",\n",
    "        f\"attachment; filename= {filepath.split('/')[-1]}\",\n",
    "    )\n",
    "    message.attach(payload=attachment_part)\n",
    "\n",
    "    server.sendmail(os.environ['EMAIL'], recipients, message.as_string())\n",
    "    print(f\"Message sent to {recipients}!\")"
   ]
  },
  {
   "cell_type": "code",
   "execution_count": 7,
   "metadata": {},
   "outputs": [
    {
     "name": "stdout",
     "output_type": "stream",
     "text": [
      "Message sent to ['limsienlong@gmail.com']!\n"
     ]
    }
   ],
   "source": [
    "# Starting connection\n",
    "with smtplib.SMTP_SSL('smtp.gmail.com', 465) as smtp_server:\n",
    "       smtp_server.login(os.environ['EMAIL'], os.environ['APP_PASS'])\n",
    "       smtp_server.ehlo()\n",
    "       send_email(smtp_server, subject, body, recipients, 'logs/app.log')"
   ]
  }
 ],
 "metadata": {
  "kernelspec": {
   "display_name": ".venv",
   "language": "python",
   "name": "python3"
  },
  "language_info": {
   "codemirror_mode": {
    "name": "ipython",
    "version": 3
   },
   "file_extension": ".py",
   "mimetype": "text/x-python",
   "name": "python",
   "nbconvert_exporter": "python",
   "pygments_lexer": "ipython3",
   "version": "3.10.5"
  }
 },
 "nbformat": 4,
 "nbformat_minor": 2
}
