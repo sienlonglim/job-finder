{
 "cells": [
  {
   "cell_type": "code",
   "execution_count": 21,
   "metadata": {},
   "outputs": [],
   "source": [
    "import os\n",
    "# from dotenv import load_dotenv\n",
    "import smtplib\n",
    "from email import encoders\n",
    "from email.mime.base import MIMEBase\n",
    "from email.mime.multipart import MIMEMultipart\n",
    "from email.mime.text import MIMEText\n",
    "from datetime import datetime\n",
    "\n",
    "# load_dotenv()"
   ]
  },
  {
   "cell_type": "code",
   "execution_count": 39,
   "metadata": {},
   "outputs": [],
   "source": [
    "recipients = [\"limsienlong@gmail.com\"]\n",
    "\n",
    "subject = f\"Daily LinkedIn Excel: {datetime.now().strftime('%Y-%m-%d : %H%Mhrs')}\"\n",
    "\n",
    "body = \"\"\"\n",
    "<html>\n",
    "  <body>\n",
    "    <p>This is an <b>HTML</b> email sent from Python using the Gmail SMTP server.</p>\n",
    "  </body>\n",
    "</html>\n",
    "\"\"\"\n",
    "\n",
    "attachments = ['files/MAIN_2023-12-30.xlsx']"
   ]
  },
  {
   "cell_type": "code",
   "execution_count": 42,
   "metadata": {},
   "outputs": [],
   "source": [
    "def send_email(server: smtplib.SMTP_SSL, subject: str, body: str, recipients: list, attachments: list):\n",
    "    '''\n",
    "    Sends an email with the given parameters\n",
    "    Inputs:\n",
    "        server: smtplib server object\n",
    "        subject: str - subject of email\n",
    "        body: str - body of the email, in html format\n",
    "        recipients: list of str - email addresses to send to\n",
    "        attachments: list of str - filepaths of attachments\n",
    "    '''\n",
    "    # Create the multipart object\n",
    "    message = MIMEMultipart()\n",
    "    # Standard fields\n",
    "    message['Subject'] = subject\n",
    "    message['From'] = os.environ['EMAIL']\n",
    "    message['To'] = ', '.join(recipients)\n",
    "\n",
    "    # HTML body\n",
    "    html_part = MIMEText(body, 'html')\n",
    "    message.attach(payload=html_part)\n",
    "\n",
    "    # Add the attachments:\n",
    "    if attachments is not None:\n",
    "        for filepath in attachments:\n",
    "            with open(filepath, 'rb') as file:\n",
    "                # Create a MIMEBase object to store the info\n",
    "                attachment_part = MIMEBase('application', 'octet-stream')\n",
    "                attachment_part.set_payload((file).read())\n",
    "\n",
    "            # Encode, add header\n",
    "            encoders.encode_base64(attachment_part)\n",
    "            attachment_part.add_header(\n",
    "            \"Content-Disposition\",\n",
    "            \"attachment\", filename= os.path.basename(filepath)) # This os function takes only the filename\n",
    "            message.attach(payload=attachment_part)\n",
    "\n",
    "    server.sendmail(os.environ['EMAIL'], recipients, message.as_string())\n",
    "    print(f\"Message sent to {recipients}!\")"
   ]
  },
  {
   "cell_type": "code",
   "execution_count": 43,
   "metadata": {},
   "outputs": [
    {
     "name": "stdout",
     "output_type": "stream",
     "text": [
      "Message sent to ['limsienlong@gmail.com']!\n"
     ]
    }
   ],
   "source": [
    "# Starting connection\n",
    "with smtplib.SMTP_SSL('smtp.gmail.com', 465) as smtp_server:\n",
    "       smtp_server.login(os.environ['EMAIL'], os.environ['APP_PASS'])\n",
    "       smtp_server.ehlo()\n",
    "       send_email(smtp_server, subject, body, recipients, attachments=attachments)"
   ]
  }
 ],
 "metadata": {
  "kernelspec": {
   "display_name": ".venv",
   "language": "python",
   "name": "python3"
  },
  "language_info": {
   "codemirror_mode": {
    "name": "ipython",
    "version": 3
   },
   "file_extension": ".py",
   "mimetype": "text/x-python",
   "name": "python",
   "nbconvert_exporter": "python",
   "pygments_lexer": "ipython3",
   "version": "3.10.5"
  }
 },
 "nbformat": 4,
 "nbformat_minor": 2
}
