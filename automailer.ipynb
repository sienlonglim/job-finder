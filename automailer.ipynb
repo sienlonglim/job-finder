{
 "cells": [
  {
   "cell_type": "code",
   "execution_count": 1,
   "metadata": {},
   "outputs": [
    {
     "data": {
      "text/plain": [
       "'averageinvestorsg@gmail.com'"
      ]
     },
     "execution_count": 1,
     "metadata": {},
     "output_type": "execute_result"
    }
   ],
   "source": [
    "import smtplib\n",
    "import os\n",
    "from dotenv import load_dotenv\n",
    "from email.mime.text import MIMEText\n",
    "\n",
    "# load_dotenv()\n",
    "os.environ['EMAIL']"
   ]
  },
  {
   "cell_type": "code",
   "execution_count": 4,
   "metadata": {},
   "outputs": [],
   "source": [
    "subject = \"Application for Data Analyst role\"\n",
    "body = '''This is the body of the text message'''\n",
    "recipients = [\"\"]\n",
    "\n",
    "def send_email(subject, body, recipients):\n",
    "    msg = MIMEText(body)\n",
    "    msg['Subject'] = subject\n",
    "    msg['From'] = os.environ['EMAIL']\n",
    "    msg['To'] = ', '.join(recipients)\n",
    "    smtp_server.sendmail(os.environ['EMAIL'], recipients, msg.as_string())\n",
    "    print(\"Message sent!\")"
   ]
  },
  {
   "cell_type": "code",
   "execution_count": null,
   "metadata": {},
   "outputs": [],
   "source": [
    "body = \"\"\"\n",
    "<html>\n",
    "  <body>\n",
    "    <p>This is an <b>HTML</b> email sent from Python using the Gmail SMTP server.</p>\n",
    "  </body>\n",
    "</html>\n",
    "\"\"\"\n",
    "html_message = MIMEText(body, 'html')"
   ]
  },
  {
   "cell_type": "code",
   "execution_count": 5,
   "metadata": {},
   "outputs": [
    {
     "name": "stdout",
     "output_type": "stream",
     "text": [
      "Message sent!\n"
     ]
    }
   ],
   "source": [
    "# Starting connection\n",
    "with smtplib.SMTP_SSL('smtp.gmail.com', 465) as smtp_server:\n",
    "       smtp_server.login(os.environ['EMAIL'], os.environ['APP_PASS'])\n",
    "       smtp_server.ehlo()\n",
    "       send_email(subject, body, recipients)"
   ]
  }
 ],
 "metadata": {
  "kernelspec": {
   "display_name": ".venv",
   "language": "python",
   "name": "python3"
  },
  "language_info": {
   "codemirror_mode": {
    "name": "ipython",
    "version": 3
   },
   "file_extension": ".py",
   "mimetype": "text/x-python",
   "name": "python",
   "nbconvert_exporter": "python",
   "pygments_lexer": "ipython3",
   "version": "3.10.5"
  }
 },
 "nbformat": 4,
 "nbformat_minor": 2
}
