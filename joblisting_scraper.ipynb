{
 "cells": [
  {
   "cell_type": "code",
   "execution_count": 1,
   "metadata": {},
   "outputs": [],
   "source": [
    "from tqdm import tqdm\n",
    "from datetime import datetime\n",
    "from modules.utils import *\n",
    "import os"
   ]
  },
  {
   "cell_type": "markdown",
   "metadata": {},
   "source": [
    "## Input job search keyword"
   ]
  },
  {
   "cell_type": "code",
   "execution_count": 2,
   "metadata": {},
   "outputs": [],
   "source": [
    "keyword = 'data analyst'\n",
    "pages = 0\n",
    "\n",
    "# with open('config.yaml', 'r') as f:\n",
    "#     config = yaml.safe_load(f)\n",
    "#     keyword_list = config['job_titles']\n",
    "#     pages = config['pages']"
   ]
  },
  {
   "cell_type": "code",
   "execution_count": 3,
   "metadata": {},
   "outputs": [],
   "source": [
    "# links = get_job_links(keyword, start_page=0, pages=pages)\n",
    "links, main_soup = get_job_links_selenium(keyword, pages=pages, debug=True)"
   ]
  },
  {
   "cell_type": "code",
   "execution_count": null,
   "metadata": {},
   "outputs": [],
   "source": [
    "main = {}\n",
    "soups = {}\n",
    "for index, link in tqdm(enumerate(links), total = len(links), dynamic_ncols =True):\n",
    "    try:\n",
    "        main[index], soups[index] = get_job_info(link, index, return_soup=True)\n",
    "    except Exception as e:\n",
    "        logger.error(e, exc_info=True)"
   ]
  },
  {
   "cell_type": "code",
   "execution_count": 21,
   "metadata": {},
   "outputs": [
    {
     "data": {
      "text/plain": [
       "NoneType"
      ]
     },
     "execution_count": 21,
     "metadata": {},
     "output_type": "execute_result"
    }
   ],
   "source": [
    "# links\n",
    "# len(main)\n",
    "# soups[3]"
   ]
  },
  {
   "cell_type": "code",
   "execution_count": 4,
   "metadata": {},
   "outputs": [
    {
     "name": "stdout",
     "output_type": "stream",
     "text": [
      "31\n"
     ]
    },
    {
     "data": {
      "text/html": [
       "<div>\n",
       "<style scoped>\n",
       "    .dataframe tbody tr th:only-of-type {\n",
       "        vertical-align: middle;\n",
       "    }\n",
       "\n",
       "    .dataframe tbody tr th {\n",
       "        vertical-align: top;\n",
       "    }\n",
       "\n",
       "    .dataframe thead th {\n",
       "        text-align: right;\n",
       "    }\n",
       "</style>\n",
       "<table border=\"1\" class=\"dataframe\">\n",
       "  <thead>\n",
       "    <tr style=\"text-align: right;\">\n",
       "      <th></th>\n",
       "      <th>date_logged</th>\n",
       "      <th>company</th>\n",
       "      <th>job_title</th>\n",
       "      <th>level</th>\n",
       "      <th>job_type</th>\n",
       "      <th>experience</th>\n",
       "      <th>spark</th>\n",
       "      <th>degree</th>\n",
       "      <th>descriptions</th>\n",
       "      <th>industry1</th>\n",
       "      <th>industry2</th>\n",
       "      <th>link</th>\n",
       "    </tr>\n",
       "    <tr>\n",
       "      <th>job_id</th>\n",
       "      <th></th>\n",
       "      <th></th>\n",
       "      <th></th>\n",
       "      <th></th>\n",
       "      <th></th>\n",
       "      <th></th>\n",
       "      <th></th>\n",
       "      <th></th>\n",
       "      <th></th>\n",
       "      <th></th>\n",
       "      <th></th>\n",
       "      <th></th>\n",
       "    </tr>\n",
       "  </thead>\n",
       "  <tbody>\n",
       "    <tr>\n",
       "      <th>3793581487</th>\n",
       "      <td>2024-01-05</td>\n",
       "      <td>BAH Partners</td>\n",
       "      <td>Data Analyst</td>\n",
       "      <td>Associate</td>\n",
       "      <td>Full-time</td>\n",
       "      <td>•My client is seeking a skilled and motivated ...</td>\n",
       "      <td></td>\n",
       "      <td>•Bachelor's or higher degree in a quantitative...</td>\n",
       "      <td>\\nMy client is seeking a skilled and motivated...</td>\n",
       "      <td>Engineering and Finance</td>\n",
       "      <td>Financial Services and Investment Management</td>\n",
       "      <td>https://sg.linkedin.com/jobs/view/data-analyst...</td>\n",
       "    </tr>\n",
       "    <tr>\n",
       "      <th>3764392364</th>\n",
       "      <td>2024-01-05</td>\n",
       "      <td>Capgemini</td>\n",
       "      <td>Data Analyst</td>\n",
       "      <td>Entry level</td>\n",
       "      <td>Full-time</td>\n",
       "      <td>•We are looking for a skilled Data Analyst who...</td>\n",
       "      <td>•We are looking for a skilled Data Analyst who...</td>\n",
       "      <td>•Bachelor's degree in a relevant field (e.g., ...</td>\n",
       "      <td>\\nAbout Capgemini\\n\\nCapgemini is a global lea...</td>\n",
       "      <td>Information Technology, Engineering, and Other</td>\n",
       "      <td>IT Services and IT Consulting, Software Develo...</td>\n",
       "      <td>https://sg.linkedin.com/jobs/view/data-analyst...</td>\n",
       "    </tr>\n",
       "    <tr>\n",
       "      <th>3775345393</th>\n",
       "      <td>2024-01-05</td>\n",
       "      <td>Dyson</td>\n",
       "      <td>Lead Data Analyst</td>\n",
       "      <td>Mid-Senior level</td>\n",
       "      <td>Full-time</td>\n",
       "      <td></td>\n",
       "      <td></td>\n",
       "      <td></td>\n",
       "      <td>\\nAbout Us\\nWe are currently seeking a Lead Da...</td>\n",
       "      <td>Information Technology</td>\n",
       "      <td>Appliances, Electrical, and Electronics Manufa...</td>\n",
       "      <td>https://sg.linkedin.com/jobs/view/lead-data-an...</td>\n",
       "    </tr>\n",
       "  </tbody>\n",
       "</table>\n",
       "</div>"
      ],
      "text/plain": [
       "           date_logged       company          job_title             level  \\\n",
       "job_id                                                                      \n",
       "3793581487  2024-01-05  BAH Partners       Data Analyst         Associate   \n",
       "3764392364  2024-01-05     Capgemini       Data Analyst       Entry level   \n",
       "3775345393  2024-01-05         Dyson  Lead Data Analyst  Mid-Senior level   \n",
       "\n",
       "             job_type                                         experience  \\\n",
       "job_id                                                                     \n",
       "3793581487  Full-time  •My client is seeking a skilled and motivated ...   \n",
       "3764392364  Full-time  •We are looking for a skilled Data Analyst who...   \n",
       "3775345393  Full-time                                                      \n",
       "\n",
       "                                                        spark  \\\n",
       "job_id                                                          \n",
       "3793581487                                                      \n",
       "3764392364  •We are looking for a skilled Data Analyst who...   \n",
       "3775345393                                                      \n",
       "\n",
       "                                                       degree  \\\n",
       "job_id                                                          \n",
       "3793581487  •Bachelor's or higher degree in a quantitative...   \n",
       "3764392364  •Bachelor's degree in a relevant field (e.g., ...   \n",
       "3775345393                                                      \n",
       "\n",
       "                                                 descriptions  \\\n",
       "job_id                                                          \n",
       "3793581487  \\nMy client is seeking a skilled and motivated...   \n",
       "3764392364  \\nAbout Capgemini\\n\\nCapgemini is a global lea...   \n",
       "3775345393  \\nAbout Us\\nWe are currently seeking a Lead Da...   \n",
       "\n",
       "                                                 industry1  \\\n",
       "job_id                                                       \n",
       "3793581487                         Engineering and Finance   \n",
       "3764392364  Information Technology, Engineering, and Other   \n",
       "3775345393                          Information Technology   \n",
       "\n",
       "                                                    industry2  \\\n",
       "job_id                                                          \n",
       "3793581487       Financial Services and Investment Management   \n",
       "3764392364  IT Services and IT Consulting, Software Develo...   \n",
       "3775345393  Appliances, Electrical, and Electronics Manufa...   \n",
       "\n",
       "                                                         link  \n",
       "job_id                                                         \n",
       "3793581487  https://sg.linkedin.com/jobs/view/data-analyst...  \n",
       "3764392364  https://sg.linkedin.com/jobs/view/data-analyst...  \n",
       "3775345393  https://sg.linkedin.com/jobs/view/lead-data-an...  "
      ]
     },
     "execution_count": 4,
     "metadata": {},
     "output_type": "execute_result"
    }
   ],
   "source": [
    "df = process_df(main, remove_nulls=True, remove_duplicates=True)\n",
    "print(len(df))\n",
    "df.head(3)"
   ]
  },
  {
   "cell_type": "markdown",
   "metadata": {},
   "source": [
    "### Save the file"
   ]
  },
  {
   "cell_type": "code",
   "execution_count": 5,
   "metadata": {},
   "outputs": [
    {
     "data": {
      "text/plain": [
       "['BATCH_2024-01-05-1413.xlsx', 'MAIN_2024-01-05.xlsx']"
      ]
     },
     "execution_count": 5,
     "metadata": {},
     "output_type": "execute_result"
    }
   ],
   "source": [
    "most_recent_file = f\"BATCH_{datetime.now().strftime('%Y-%m-%d-%H%M')}.xlsx\"\n",
    "df.to_excel(f\"ignore/{most_recent_file}\", engine='xlsxwriter')\n",
    "most_recent_filepaths = [file for file in os.listdir('ignore') if datetime.now().strftime('%Y-%m-%d') in file]\n",
    "most_recent_filepaths"
   ]
  },
  {
   "cell_type": "markdown",
   "metadata": {},
   "source": [
    "## Append all BATCH files to MAIN"
   ]
  },
  {
   "cell_type": "code",
   "execution_count": 1,
   "metadata": {},
   "outputs": [
    {
     "data": {
      "text/plain": [
       "['ignore/BATCH_2024-01-05-1413.xlsx',\n",
       " 'ignore/BATCH_2024-01-11.xlsx',\n",
       " 'ignore/BATCH_2024-01-18.xlsx']"
      ]
     },
     "execution_count": 1,
     "metadata": {},
     "output_type": "execute_result"
    }
   ],
   "source": [
    "from modules.utils import *\n",
    "\n",
    "batchfiles = [file for file in os.listdir('ignore') if file.startswith('BATCH')]\n",
    "batchfiles = ['ignore/' + filename for filename in batchfiles]\n",
    "batchfiles"
   ]
  },
  {
   "cell_type": "code",
   "execution_count": 2,
   "metadata": {},
   "outputs": [
    {
     "data": {
      "text/plain": [
       "'ignore/MAIN_2024-01-11.xlsx'"
      ]
     },
     "execution_count": 2,
     "metadata": {},
     "output_type": "execute_result"
    }
   ],
   "source": [
    "file_directory = sorted([file for file in os.listdir('ignore') if file.startswith('MAIN')])\n",
    "if len(file_directory)>0:\n",
    "    mainfile = file_directory[-1] # Gets latest file\n",
    "    mainfilepath = f'ignore/{mainfile}'\n",
    "mainfilepath"
   ]
  },
  {
   "cell_type": "code",
   "execution_count": 3,
   "metadata": {},
   "outputs": [],
   "source": [
    "# main_df = update_main('files/MAIN_2023-12-25.xlsx', most_recent_filepaths)\n",
    "# main_df = update_main('files/MAIN_2023-12-27.xlsx', [df])\n",
    "main_df = update_main(mainfilepath, batchfiles)"
   ]
  },
  {
   "cell_type": "code",
   "execution_count": 4,
   "metadata": {},
   "outputs": [],
   "source": [
    "main_df.to_excel(f\"ignore/MAIN_{datetime.now().strftime('%Y-%m-%d')}.xlsx\", engine='xlsxwriter')"
   ]
  }
 ],
 "metadata": {
  "kernelspec": {
   "display_name": ".venv",
   "language": "python",
   "name": "python3"
  },
  "language_info": {
   "codemirror_mode": {
    "name": "ipython",
    "version": 3
   },
   "file_extension": ".py",
   "mimetype": "text/x-python",
   "name": "python",
   "nbconvert_exporter": "python",
   "pygments_lexer": "ipython3",
   "version": "3.10.5"
  }
 },
 "nbformat": 4,
 "nbformat_minor": 2
}
