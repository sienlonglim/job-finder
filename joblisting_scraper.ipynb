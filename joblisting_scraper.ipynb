{
 "cells": [
  {
   "cell_type": "code",
   "execution_count": 1,
   "metadata": {},
   "outputs": [],
   "source": [
    "from tqdm import tqdm\n",
    "from datetime import datetime\n",
    "from modules.utils import *\n",
    "import os"
   ]
  },
  {
   "cell_type": "markdown",
   "metadata": {},
   "source": [
    "## Input job search keyword"
   ]
  },
  {
   "cell_type": "code",
   "execution_count": 2,
   "metadata": {},
   "outputs": [],
   "source": [
    "keyword = 'data analyst'\n",
    "pages = 10\n",
    "\n",
    "# with open('config.yaml', 'r') as f:\n",
    "#     config = yaml.safe_load(f)\n",
    "#     keyword_list = config['job_titles']\n",
    "#     pages = config['pages']"
   ]
  },
  {
   "cell_type": "code",
   "execution_count": null,
   "metadata": {},
   "outputs": [],
   "source": [
    "# links = get_job_links(keyword, start_page=0, pages=pages)\n",
    "links, main_soup = get_job_links_selenium(keyword, pages=pages, debug=True)\n",
    "main = {}\n",
    "soups = {}\n",
    "for index, link in tqdm(enumerate(links), total = len(links), dynamic_ncols =True):\n",
    "    main[index], soups[index] = get_job_info(link, index, return_soup=True)"
   ]
  },
  {
   "cell_type": "code",
   "execution_count": 16,
   "metadata": {},
   "outputs": [],
   "source": [
    "# links\n",
    "# len(main)\n",
    "# soups[88]"
   ]
  },
  {
   "cell_type": "code",
   "execution_count": 19,
   "metadata": {},
   "outputs": [
    {
     "name": "stdout",
     "output_type": "stream",
     "text": [
      "108\n"
     ]
    },
    {
     "data": {
      "text/html": [
       "<div>\n",
       "<style scoped>\n",
       "    .dataframe tbody tr th:only-of-type {\n",
       "        vertical-align: middle;\n",
       "    }\n",
       "\n",
       "    .dataframe tbody tr th {\n",
       "        vertical-align: top;\n",
       "    }\n",
       "\n",
       "    .dataframe thead th {\n",
       "        text-align: right;\n",
       "    }\n",
       "</style>\n",
       "<table border=\"1\" class=\"dataframe\">\n",
       "  <thead>\n",
       "    <tr style=\"text-align: right;\">\n",
       "      <th></th>\n",
       "      <th>date_logged</th>\n",
       "      <th>company</th>\n",
       "      <th>job_title</th>\n",
       "      <th>level</th>\n",
       "      <th>job_type</th>\n",
       "      <th>experience</th>\n",
       "      <th>spark</th>\n",
       "      <th>degree</th>\n",
       "      <th>descriptions</th>\n",
       "      <th>industry1</th>\n",
       "      <th>industry2</th>\n",
       "      <th>link</th>\n",
       "    </tr>\n",
       "    <tr>\n",
       "      <th>job_id</th>\n",
       "      <th></th>\n",
       "      <th></th>\n",
       "      <th></th>\n",
       "      <th></th>\n",
       "      <th></th>\n",
       "      <th></th>\n",
       "      <th></th>\n",
       "      <th></th>\n",
       "      <th></th>\n",
       "      <th></th>\n",
       "      <th></th>\n",
       "      <th></th>\n",
       "    </tr>\n",
       "  </thead>\n",
       "  <tbody>\n",
       "    <tr>\n",
       "      <th>3786883030</th>\n",
       "      <td>2023-12-27</td>\n",
       "      <td>ABBVIE OPERATIONS SINGAPORE PTE. LTD.</td>\n",
       "      <td>Business Data Analyst</td>\n",
       "      <td>Mid-Senior level</td>\n",
       "      <td>Full-time</td>\n",
       "      <td></td>\n",
       "      <td></td>\n",
       "      <td>•Bachelor’s degree with 3 to 5 years of manufa...</td>\n",
       "      <td>\\nJob Overview\\nThis position is responsible f...</td>\n",
       "      <td>Information Technology</td>\n",
       "      <td>NaN</td>\n",
       "      <td>https://sg.linkedin.com/jobs/view/business-dat...</td>\n",
       "    </tr>\n",
       "    <tr>\n",
       "      <th>3780542368</th>\n",
       "      <td>2023-12-27</td>\n",
       "      <td>ARTA TECH PTE. LTD.</td>\n",
       "      <td>Data Analyst</td>\n",
       "      <td>Entry level</td>\n",
       "      <td>Full-time</td>\n",
       "      <td>•Bachelor's degree. MBA is a plus.Minimum 3 ye...</td>\n",
       "      <td></td>\n",
       "      <td>•Bachelor's degree. MBA is a plus.Minimum 3 ye...</td>\n",
       "      <td>Arta Finance is a dynamic fintech star...</td>\n",
       "      <td>Information Technology</td>\n",
       "      <td>NaN</td>\n",
       "      <td>https://sg.linkedin.com/jobs/view/data-analyst...</td>\n",
       "    </tr>\n",
       "    <tr>\n",
       "      <th>3793406045</th>\n",
       "      <td>2023-12-27</td>\n",
       "      <td>ATTRIBUTE DATA PTE. LTD.</td>\n",
       "      <td>Data Analyst</td>\n",
       "      <td>Entry level</td>\n",
       "      <td>Full-time</td>\n",
       "      <td>•Take a lead role in partnering with our clien...</td>\n",
       "      <td></td>\n",
       "      <td></td>\n",
       "      <td>\\nPrimary Responsibilities\\n•Take a lead role ...</td>\n",
       "      <td>Information Technology</td>\n",
       "      <td>NaN</td>\n",
       "      <td>https://sg.linkedin.com/jobs/view/data-analyst...</td>\n",
       "    </tr>\n",
       "    <tr>\n",
       "      <th>3744539391</th>\n",
       "      <td>2023-12-27</td>\n",
       "      <td>Adecco</td>\n",
       "      <td>Junior/Senior Data Analyst | Power BI | Immedi...</td>\n",
       "      <td>Mid-Senior level</td>\n",
       "      <td>Full-time</td>\n",
       "      <td>•Holds a Degree in Computer Science/ Business ...</td>\n",
       "      <td></td>\n",
       "      <td></td>\n",
       "      <td>Adecco is partnering with a Global com...</td>\n",
       "      <td>Information Technology</td>\n",
       "      <td>Staffing and Recruiting</td>\n",
       "      <td>https://sg.linkedin.com/jobs/view/junior-senio...</td>\n",
       "    </tr>\n",
       "    <tr>\n",
       "      <th>3752083944</th>\n",
       "      <td>2023-12-27</td>\n",
       "      <td>Agile Talent</td>\n",
       "      <td>Project Control Engineer (Data Analyst)</td>\n",
       "      <td>Associate</td>\n",
       "      <td>Contract</td>\n",
       "      <td>•Bachelor degree in Engineering, Accounting, B...</td>\n",
       "      <td></td>\n",
       "      <td>•Bachelor degree in Engineering, Accounting, B...</td>\n",
       "      <td>\\nResponsibilities\\n•Project Controls Engineer...</td>\n",
       "      <td>Management and Manufacturing</td>\n",
       "      <td>Staffing and Recruiting</td>\n",
       "      <td>https://sg.linkedin.com/jobs/view/project-cont...</td>\n",
       "    </tr>\n",
       "  </tbody>\n",
       "</table>\n",
       "</div>"
      ],
      "text/plain": [
       "           date_logged                                company  \\\n",
       "job_id                                                          \n",
       "3786883030  2023-12-27  ABBVIE OPERATIONS SINGAPORE PTE. LTD.   \n",
       "3780542368  2023-12-27                    ARTA TECH PTE. LTD.   \n",
       "3793406045  2023-12-27               ATTRIBUTE DATA PTE. LTD.   \n",
       "3744539391  2023-12-27                                 Adecco   \n",
       "3752083944  2023-12-27                           Agile Talent   \n",
       "\n",
       "                                                    job_title  \\\n",
       "job_id                                                          \n",
       "3786883030                              Business Data Analyst   \n",
       "3780542368                                       Data Analyst   \n",
       "3793406045                                       Data Analyst   \n",
       "3744539391  Junior/Senior Data Analyst | Power BI | Immedi...   \n",
       "3752083944            Project Control Engineer (Data Analyst)   \n",
       "\n",
       "                       level   job_type  \\\n",
       "job_id                                    \n",
       "3786883030  Mid-Senior level  Full-time   \n",
       "3780542368       Entry level  Full-time   \n",
       "3793406045       Entry level  Full-time   \n",
       "3744539391  Mid-Senior level  Full-time   \n",
       "3752083944         Associate   Contract   \n",
       "\n",
       "                                                   experience spark  \\\n",
       "job_id                                                                \n",
       "3786883030                                                            \n",
       "3780542368  •Bachelor's degree. MBA is a plus.Minimum 3 ye...         \n",
       "3793406045  •Take a lead role in partnering with our clien...         \n",
       "3744539391  •Holds a Degree in Computer Science/ Business ...         \n",
       "3752083944  •Bachelor degree in Engineering, Accounting, B...         \n",
       "\n",
       "                                                       degree  \\\n",
       "job_id                                                          \n",
       "3786883030  •Bachelor’s degree with 3 to 5 years of manufa...   \n",
       "3780542368  •Bachelor's degree. MBA is a plus.Minimum 3 ye...   \n",
       "3793406045                                                      \n",
       "3744539391                                                      \n",
       "3752083944  •Bachelor degree in Engineering, Accounting, B...   \n",
       "\n",
       "                                                 descriptions  \\\n",
       "job_id                                                          \n",
       "3786883030  \\nJob Overview\\nThis position is responsible f...   \n",
       "3780542368          Arta Finance is a dynamic fintech star...   \n",
       "3793406045  \\nPrimary Responsibilities\\n•Take a lead role ...   \n",
       "3744539391          Adecco is partnering with a Global com...   \n",
       "3752083944  \\nResponsibilities\\n•Project Controls Engineer...   \n",
       "\n",
       "                               industry1                industry2  \\\n",
       "job_id                                                              \n",
       "3786883030        Information Technology                      NaN   \n",
       "3780542368        Information Technology                      NaN   \n",
       "3793406045        Information Technology                      NaN   \n",
       "3744539391        Information Technology  Staffing and Recruiting   \n",
       "3752083944  Management and Manufacturing  Staffing and Recruiting   \n",
       "\n",
       "                                                         link  \n",
       "job_id                                                         \n",
       "3786883030  https://sg.linkedin.com/jobs/view/business-dat...  \n",
       "3780542368  https://sg.linkedin.com/jobs/view/data-analyst...  \n",
       "3793406045  https://sg.linkedin.com/jobs/view/data-analyst...  \n",
       "3744539391  https://sg.linkedin.com/jobs/view/junior-senio...  \n",
       "3752083944  https://sg.linkedin.com/jobs/view/project-cont...  "
      ]
     },
     "execution_count": 19,
     "metadata": {},
     "output_type": "execute_result"
    }
   ],
   "source": [
    "df = process_df(main, remove_nulls=True, remove_duplicates=True)\n",
    "print(len(df))\n",
    "df.head()"
   ]
  },
  {
   "cell_type": "markdown",
   "metadata": {},
   "source": [
    "### By saving and compiling all the intermediate files"
   ]
  },
  {
   "cell_type": "code",
   "execution_count": 26,
   "metadata": {},
   "outputs": [
    {
     "data": {
      "text/plain": [
       "['data analyst_2023-12-27-2331.xlsx']"
      ]
     },
     "execution_count": 26,
     "metadata": {},
     "output_type": "execute_result"
    }
   ],
   "source": [
    "most_recent_file = f\"{keyword}_{datetime.now().strftime('%Y-%m-%d-%H%M')}.xlsx\"\n",
    "df.to_excel(f\"ignore/{most_recent_file}\", engine='xlsxwriter')\n",
    "most_recent_filepaths = [file for file in os.listdir('ignore') if datetime.now().strftime('%Y-%m-%d') in file]\n",
    "most_recent_filepaths"
   ]
  },
  {
   "cell_type": "code",
   "execution_count": 27,
   "metadata": {},
   "outputs": [],
   "source": [
    "# main_df = update_main('files/MAIN_2023-12-25.xlsx', most_recent_filepaths)\n",
    "main_df = update_main('files/MAIN_2023-12-27.xlsx', [df])"
   ]
  },
  {
   "cell_type": "code",
   "execution_count": 28,
   "metadata": {},
   "outputs": [],
   "source": [
    "main_df.to_excel(f\"ignore/MAIN_{datetime.now().strftime('%Y-%m-%d')}.xlsx\", engine='xlsxwriter')"
   ]
  }
 ],
 "metadata": {
  "kernelspec": {
   "display_name": ".venv",
   "language": "python",
   "name": "python3"
  },
  "language_info": {
   "codemirror_mode": {
    "name": "ipython",
    "version": 3
   },
   "file_extension": ".py",
   "mimetype": "text/x-python",
   "name": "python",
   "nbconvert_exporter": "python",
   "pygments_lexer": "ipython3",
   "version": "3.10.5"
  }
 },
 "nbformat": 4,
 "nbformat_minor": 2
}
