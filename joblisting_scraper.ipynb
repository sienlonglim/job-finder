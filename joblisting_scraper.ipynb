{
 "cells": [
  {
   "cell_type": "code",
   "execution_count": 1,
   "metadata": {},
   "outputs": [],
   "source": [
    "import os\n",
    "import yaml\n",
    "from tqdm import tqdm\n",
    "from datetime import datetime\n",
    "from modules.utils import *"
   ]
  },
  {
   "cell_type": "markdown",
   "metadata": {},
   "source": [
    "### Functions, wrappers and request headers"
   ]
  },
  {
   "cell_type": "code",
   "execution_count": 13,
   "metadata": {},
   "outputs": [],
   "source": [
    "from selenium import webdriver\n",
    "import time\n",
    "\n",
    "def get_job_links_selenium(keyword: str, pages: int)-> tuple:    \n",
    "    '''Function to retrieve all job links over specified number of pages and search\n",
    "    Inputs:\n",
    "        keyword: str - job title and other keywords\n",
    "        pages: int - number of pages to retrieve, achieved through scrolling with Selenium\n",
    "    Returns \n",
    "        list of job links\n",
    "        list of actual urls used\n",
    "        counter dictionary of JobId\n",
    "    '''\n",
    "    def custom_selector(tag):\n",
    "        '''\n",
    "        Helper function used to identify a href tag with belongs to the job link\n",
    "        Inputs:\n",
    "            soup tag\n",
    "        Returns soup tag\n",
    "        '''\n",
    "        return tag.name == \"a\" and tag.has_attr(\"href\") and keyword in tag.get('href')\n",
    "    \n",
    "    title = re.sub(' ', '%20', keyword.lower()) # This is used for building url\n",
    "    keyword = re.sub(' ', '-', keyword.lower()) # This is used inside custom_selector's scope   \n",
    "\n",
    "    logger.info(f'Searching for {keyword}')\n",
    "    data = {}\n",
    "    try:\n",
    "        driver = webdriver.Chrome()\n",
    "        driver.implicitly_wait(30)\n",
    "        driver.get(f\"https://www.linkedin.com/jobs/search/?distance=25&geoId=102454443&keywords={title}&location=Singapore&start=0\")\n",
    "        for i in range(0, pages):\n",
    "            driver.execute_script(\"window.scrollTo(0, document.body.scrollHeight);\")\n",
    "            time.sleep(4)\n",
    "\n",
    "        # Get the full html after scrolling is complete, then parse via bs4\n",
    "        html_source = driver.page_source\n",
    "        soup = BeautifulSoup(html_source,'html.parser')\n",
    "        tags = soup.find_all(custom_selector)\n",
    "\n",
    "        # Get the link and jobid for each listed job\n",
    "        for tag in tags:\n",
    "            link = tag.get('href')\n",
    "            link = link.split('?')[0] # Tidy up the link to remove the trackingid\n",
    "            if 'login' not in link:\n",
    "                data.setdefault(link, 0)\n",
    "                data[link] += 1\n",
    "        logger.info(f'Unique links: {len(data)}')\n",
    "    except Exception as e:\n",
    "        logger.error(f'Error at scroll {i}, {e}')\n",
    "    finally:\n",
    "        return data"
   ]
  },
  {
   "cell_type": "markdown",
   "metadata": {},
   "source": [
    "## Input job search keyword"
   ]
  },
  {
   "cell_type": "code",
   "execution_count": 2,
   "metadata": {},
   "outputs": [],
   "source": [
    "keyword = 'data analyst'\n",
    "pages = 20\n",
    "\n",
    "# with open('config.yaml', 'r') as f:\n",
    "#     config = yaml.safe_load(f)\n",
    "#     keyword_list = config['job_titles']\n",
    "#     pages = config['pages']"
   ]
  },
  {
   "cell_type": "code",
   "execution_count": 3,
   "metadata": {},
   "outputs": [
    {
     "name": "stderr",
     "output_type": "stream",
     "text": [
      "100%|██████████| 52/52 [01:11<00:00,  1.37s/it]\n"
     ]
    }
   ],
   "source": [
    "links = get_job_links(keyword, start_page=0, pages=pages)\n",
    "main = {}\n",
    "soups = {}\n",
    "for index, link in tqdm(enumerate(links), total = len(links), dynamic_ncols =True):\n",
    "    main[index], soups[index] = get_job_info(link, index, return_soup=True)"
   ]
  },
  {
   "cell_type": "code",
   "execution_count": 74,
   "metadata": {},
   "outputs": [],
   "source": [
    "# soups[88]\n",
    "# links"
   ]
  },
  {
   "cell_type": "code",
   "execution_count": 4,
   "metadata": {},
   "outputs": [
    {
     "data": {
      "text/html": [
       "<div>\n",
       "<style scoped>\n",
       "    .dataframe tbody tr th:only-of-type {\n",
       "        vertical-align: middle;\n",
       "    }\n",
       "\n",
       "    .dataframe tbody tr th {\n",
       "        vertical-align: top;\n",
       "    }\n",
       "\n",
       "    .dataframe thead th {\n",
       "        text-align: right;\n",
       "    }\n",
       "</style>\n",
       "<table border=\"1\" class=\"dataframe\">\n",
       "  <thead>\n",
       "    <tr style=\"text-align: right;\">\n",
       "      <th></th>\n",
       "      <th>date_logged</th>\n",
       "      <th>company</th>\n",
       "      <th>job_title</th>\n",
       "      <th>level</th>\n",
       "      <th>job_type</th>\n",
       "      <th>experience</th>\n",
       "      <th>spark</th>\n",
       "      <th>degree</th>\n",
       "      <th>descriptions</th>\n",
       "      <th>industry1</th>\n",
       "      <th>industry2</th>\n",
       "      <th>link</th>\n",
       "    </tr>\n",
       "    <tr>\n",
       "      <th>job_id</th>\n",
       "      <th></th>\n",
       "      <th></th>\n",
       "      <th></th>\n",
       "      <th></th>\n",
       "      <th></th>\n",
       "      <th></th>\n",
       "      <th></th>\n",
       "      <th></th>\n",
       "      <th></th>\n",
       "      <th></th>\n",
       "      <th></th>\n",
       "      <th></th>\n",
       "    </tr>\n",
       "  </thead>\n",
       "  <tbody>\n",
       "    <tr>\n",
       "      <th>3790092207</th>\n",
       "      <td>2023-12-25</td>\n",
       "      <td>Adecco</td>\n",
       "      <td>Data Analyst (Tech MNC/ SQL / UP7K+)</td>\n",
       "      <td>Entry level</td>\n",
       "      <td>Full-time</td>\n",
       "      <td>•2+ years of experience working in data-relate...</td>\n",
       "      <td></td>\n",
       "      <td></td>\n",
       "      <td>Data Analyst\\nA famous Tech MNC\\nThe O...</td>\n",
       "      <td>Information Technology</td>\n",
       "      <td>Staffing and Recruiting</td>\n",
       "      <td>https://sg.linkedin.com/jobs/view/data-analyst...</td>\n",
       "    </tr>\n",
       "    <tr>\n",
       "      <th>3757235292</th>\n",
       "      <td>2023-12-25</td>\n",
       "      <td>Allianz Global Investors</td>\n",
       "      <td>Data Analyst</td>\n",
       "      <td>Entry level</td>\n",
       "      <td>Full-time</td>\n",
       "      <td>•We encourage candidates with at least 3 years...</td>\n",
       "      <td></td>\n",
       "      <td>•University degree in computer science, IT, fi...</td>\n",
       "      <td>\\nJoin us. Let’s care for tomorrow.\\nAt Allian...</td>\n",
       "      <td>Information Technology</td>\n",
       "      <td>Financial Services and Insurance</td>\n",
       "      <td>https://sg.linkedin.com/jobs/view/data-analyst...</td>\n",
       "    </tr>\n",
       "    <tr>\n",
       "      <th>3729120053</th>\n",
       "      <td>2023-12-25</td>\n",
       "      <td>Amaris Consulting</td>\n",
       "      <td>Data Analyst</td>\n",
       "      <td>Entry level</td>\n",
       "      <td>Full-time</td>\n",
       "      <td>•At Amaris, we strive to provide our candidate...</td>\n",
       "      <td></td>\n",
       "      <td>•Education: A bachelor's degree in a relevant ...</td>\n",
       "      <td>Who are we?\\nAmaris Consulting\\n is an...</td>\n",
       "      <td>Information Technology</td>\n",
       "      <td>IT Services and IT Consulting</td>\n",
       "      <td>https://sg.linkedin.com/jobs/view/data-analyst...</td>\n",
       "    </tr>\n",
       "    <tr>\n",
       "      <th>3791812116</th>\n",
       "      <td>2023-12-25</td>\n",
       "      <td>Applicantz</td>\n",
       "      <td>Data Analyst</td>\n",
       "      <td>Mid-Senior level</td>\n",
       "      <td>Contract</td>\n",
       "      <td>•Our large, Fortune Technology client is ranke...</td>\n",
       "      <td></td>\n",
       "      <td></td>\n",
       "      <td>\\nTHIS IS A 4+ months CONTRACT POSITION WITH O...</td>\n",
       "      <td>Information Technology</td>\n",
       "      <td>Technology, Information and Internet and Compu...</td>\n",
       "      <td>https://sg.linkedin.com/jobs/view/data-analyst...</td>\n",
       "    </tr>\n",
       "    <tr>\n",
       "      <th>3775716634</th>\n",
       "      <td>2023-12-25</td>\n",
       "      <td>Arta Finance</td>\n",
       "      <td>Data Analyst</td>\n",
       "      <td>Entry level</td>\n",
       "      <td>Full-time</td>\n",
       "      <td>•Bachelor's degree. MBA is a plus.Minimum 3 ye...</td>\n",
       "      <td></td>\n",
       "      <td>•Bachelor's degree. MBA is a plus.Minimum 3 ye...</td>\n",
       "      <td>Arta Finance is a dynamic fintech star...</td>\n",
       "      <td>Information Technology</td>\n",
       "      <td>Financial Services</td>\n",
       "      <td>https://sg.linkedin.com/jobs/view/data-analyst...</td>\n",
       "    </tr>\n",
       "  </tbody>\n",
       "</table>\n",
       "</div>"
      ],
      "text/plain": [
       "           date_logged                   company  \\\n",
       "job_id                                             \n",
       "3790092207  2023-12-25                    Adecco   \n",
       "3757235292  2023-12-25  Allianz Global Investors   \n",
       "3729120053  2023-12-25         Amaris Consulting   \n",
       "3791812116  2023-12-25                Applicantz   \n",
       "3775716634  2023-12-25              Arta Finance   \n",
       "\n",
       "                                       job_title             level   job_type  \\\n",
       "job_id                                                                          \n",
       "3790092207  Data Analyst (Tech MNC/ SQL / UP7K+)       Entry level  Full-time   \n",
       "3757235292                          Data Analyst       Entry level  Full-time   \n",
       "3729120053                          Data Analyst       Entry level  Full-time   \n",
       "3791812116                          Data Analyst  Mid-Senior level   Contract   \n",
       "3775716634                          Data Analyst       Entry level  Full-time   \n",
       "\n",
       "                                                   experience spark  \\\n",
       "job_id                                                                \n",
       "3790092207  •2+ years of experience working in data-relate...         \n",
       "3757235292  •We encourage candidates with at least 3 years...         \n",
       "3729120053  •At Amaris, we strive to provide our candidate...         \n",
       "3791812116  •Our large, Fortune Technology client is ranke...         \n",
       "3775716634  •Bachelor's degree. MBA is a plus.Minimum 3 ye...         \n",
       "\n",
       "                                                       degree  \\\n",
       "job_id                                                          \n",
       "3790092207                                                      \n",
       "3757235292  •University degree in computer science, IT, fi...   \n",
       "3729120053  •Education: A bachelor's degree in a relevant ...   \n",
       "3791812116                                                      \n",
       "3775716634  •Bachelor's degree. MBA is a plus.Minimum 3 ye...   \n",
       "\n",
       "                                                 descriptions  \\\n",
       "job_id                                                          \n",
       "3790092207          Data Analyst\\nA famous Tech MNC\\nThe O...   \n",
       "3757235292  \\nJoin us. Let’s care for tomorrow.\\nAt Allian...   \n",
       "3729120053          Who are we?\\nAmaris Consulting\\n is an...   \n",
       "3791812116  \\nTHIS IS A 4+ months CONTRACT POSITION WITH O...   \n",
       "3775716634          Arta Finance is a dynamic fintech star...   \n",
       "\n",
       "                         industry1  \\\n",
       "job_id                               \n",
       "3790092207  Information Technology   \n",
       "3757235292  Information Technology   \n",
       "3729120053  Information Technology   \n",
       "3791812116  Information Technology   \n",
       "3775716634  Information Technology   \n",
       "\n",
       "                                                    industry2  \\\n",
       "job_id                                                          \n",
       "3790092207                            Staffing and Recruiting   \n",
       "3757235292                   Financial Services and Insurance   \n",
       "3729120053                      IT Services and IT Consulting   \n",
       "3791812116  Technology, Information and Internet and Compu...   \n",
       "3775716634                                 Financial Services   \n",
       "\n",
       "                                                         link  \n",
       "job_id                                                         \n",
       "3790092207  https://sg.linkedin.com/jobs/view/data-analyst...  \n",
       "3757235292  https://sg.linkedin.com/jobs/view/data-analyst...  \n",
       "3729120053  https://sg.linkedin.com/jobs/view/data-analyst...  \n",
       "3791812116  https://sg.linkedin.com/jobs/view/data-analyst...  \n",
       "3775716634  https://sg.linkedin.com/jobs/view/data-analyst...  "
      ]
     },
     "execution_count": 4,
     "metadata": {},
     "output_type": "execute_result"
    }
   ],
   "source": [
    "df = process_df(main, remove_nulls=True, remove_duplicates=True)\n",
    "df.head()"
   ]
  },
  {
   "cell_type": "markdown",
   "metadata": {},
   "source": [
    "### By saving and compiling all the intermediate files"
   ]
  },
  {
   "cell_type": "code",
   "execution_count": 5,
   "metadata": {},
   "outputs": [
    {
     "data": {
      "text/plain": [
       "['data analyst_2023-12-25-2047.xlsx']"
      ]
     },
     "execution_count": 5,
     "metadata": {},
     "output_type": "execute_result"
    }
   ],
   "source": [
    "most_recent_file = f\"{keyword}_{datetime.now().strftime('%Y-%m-%d:%H%M')}.xlsx\"\n",
    "df.to_excel(f\"ignore/{most_recent_file}\", engine='xlsxwriter')\n",
    "most_recent_filepaths = [file for file in os.listdir('ignore') if datetime.now().strftime('%Y-%m-%d') in file]\n",
    "most_recent_filepaths"
   ]
  },
  {
   "cell_type": "code",
   "execution_count": 7,
   "metadata": {},
   "outputs": [],
   "source": [
    "# main_df = update_main('files/MAIN_2023-12-25.xlsx', most_recent_filepaths)\n",
    "main_df = update_main('files/MAIN_2023-12-25.xlsx', [df])"
   ]
  },
  {
   "cell_type": "code",
   "execution_count": 56,
   "metadata": {},
   "outputs": [],
   "source": [
    "main_df.to_excel(f\"ignore/MAIN_{datetime.now().strftime('%Y-%m-%d')}.xlsx\", engine='xlsxwriter')"
   ]
  }
 ],
 "metadata": {
  "kernelspec": {
   "display_name": ".venv",
   "language": "python",
   "name": "python3"
  },
  "language_info": {
   "codemirror_mode": {
    "name": "ipython",
    "version": 3
   },
   "file_extension": ".py",
   "mimetype": "text/x-python",
   "name": "python",
   "nbconvert_exporter": "python",
   "pygments_lexer": "ipython3",
   "version": "3.10.5"
  }
 },
 "nbformat": 4,
 "nbformat_minor": 2
}
