{
 "cells": [
  {
   "cell_type": "code",
   "execution_count": 18,
   "metadata": {},
   "outputs": [],
   "source": [
    "import requests\n",
    "from bs4 import BeautifulSoup"
   ]
  },
  {
   "cell_type": "markdown",
   "metadata": {},
   "source": [
    "### Every linkedin job search page carries 25 jobs"
   ]
  },
  {
   "cell_type": "code",
   "execution_count": 71,
   "metadata": {},
   "outputs": [],
   "source": [
    "def get_job_links(keyword, start_page, pages):\n",
    "    def custom_selector(tag):\n",
    "\t    return tag.name == \"a\" and tag.has_attr(\"href\") and keyword in tag.get('href')\n",
    "    \n",
    "    job_links = []\n",
    "    position = start_page\n",
    "    position = position*25 + 1\n",
    "    try:\n",
    "        for page in range(pages):\n",
    "            url = f\"https://www.linkedin.com/jobs/search/?currentJobId=3693533935&distance=25&geoId=102454443&keywords=data%20analyst&origin=JOB_SEARCH_PAGE_KEYWORD_HISTORY&refresh=true&start={position}\"\n",
    "            response = requests.get(url)\n",
    "            soup = BeautifulSoup(response.text,'html.parser')\n",
    "            tags = soup.find_all(custom_selector)\n",
    "            for tag in tags:\n",
    "                job_links.append(tag.get('href'))\n",
    "            position = position*25 + 1\n",
    "    except Exception as e:\n",
    "        print(f'Error at page {page})\n",
    "        print(e)\n",
    "    finally:\n",
    "        return job_links"
   ]
  },
  {
   "cell_type": "code",
   "execution_count": 73,
   "metadata": {},
   "outputs": [
    {
     "name": "stdout",
     "output_type": "stream",
     "text": [
      "138\n"
     ]
    }
   ],
   "source": [
    "links = get_job_links('data-analyst', start_page=0, pages=100)\n",
    "print(len(links))"
   ]
  },
  {
   "cell_type": "code",
   "execution_count": null,
   "metadata": {},
   "outputs": [],
   "source": []
  }
 ],
 "metadata": {
  "kernelspec": {
   "display_name": ".venv",
   "language": "python",
   "name": "python3"
  },
  "language_info": {
   "codemirror_mode": {
    "name": "ipython",
    "version": 3
   },
   "file_extension": ".py",
   "mimetype": "text/x-python",
   "name": "python",
   "nbconvert_exporter": "python",
   "pygments_lexer": "ipython3",
   "version": "3.10.5"
  }
 },
 "nbformat": 4,
 "nbformat_minor": 2
}
